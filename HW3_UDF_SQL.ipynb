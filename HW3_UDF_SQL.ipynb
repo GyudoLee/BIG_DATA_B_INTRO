{
 "cells": [
  {
   "cell_type": "markdown",
   "id": "2877cdef-a00b-4445-bd3e-8131fc736d3a",
   "metadata": {},
   "source": [
    "[과제: udf 등록 및 SQL 처리]\n",
    "UDF 함수명: age_category(age)\n",
    "- age가 35살 미만: 'young'\n",
    "- age가 35살-59살: 'adult'\n",
    "- age가 60살 이상: 'senior'\n",
    "\n",
    "데이터프레임\n",
    "- 변수: name, age (예: '안현', 39)\n",
    "- 데이터 5개~10개 생성 \n",
    "\n",
    "SQL 출력 결과: name, age_category(age)\n",
    "\n",
    "- 제출 방법: GitHub에 업로드\n",
    "- 제출 기한: 5.24(수)"
   ]
  },
  {
   "cell_type": "code",
   "execution_count": 1,
   "id": "4c32c6ee-9447-498e-a4b8-c5460fe771c4",
   "metadata": {},
   "outputs": [],
   "source": [
    "from pyspark.sql import SparkSession\n",
    "spark = SparkSession.builder.master('local').appName('people_age_functions').getOrCreate()"
   ]
  },
  {
   "cell_type": "code",
   "execution_count": 16,
   "id": "e55a5c9f-bd84-4652-a752-47be7dbddcc4",
   "metadata": {},
   "outputs": [],
   "source": [
    "world_people = [\n",
    "    ('이규도', 22),\n",
    "    ('안현', 39),\n",
    "    ('해리 케인', 30),\n",
    "    ('유재석', 51),\n",
    "    ('한문철', 61),\n",
    "    ('이순재', 89),\n",
    "    ('장성규', 41)\n",
    "]"
   ]
  },
  {
   "cell_type": "code",
   "execution_count": 17,
   "id": "1759f6d7-9558-48cc-908e-707b22f1f8c9",
   "metadata": {},
   "outputs": [],
   "source": [
    "schema = ['people_name', 'age']"
   ]
  },
  {
   "cell_type": "code",
   "execution_count": 18,
   "id": "37e7962e-8163-4773-9f1a-b164a7369e7d",
   "metadata": {},
   "outputs": [],
   "source": [
    "df = spark.createDataFrame(data = world_people, schema=schema)"
   ]
  },
  {
   "cell_type": "code",
   "execution_count": 19,
   "id": "277d2718-c530-4ec0-9e09-41e4d0fcac66",
   "metadata": {},
   "outputs": [
    {
     "name": "stdout",
     "output_type": "stream",
     "text": [
      "+-----------+---+\n",
      "|people_name|age|\n",
      "+-----------+---+\n",
      "|     이규도| 22|\n",
      "|       안현| 39|\n",
      "|  해리 케인| 30|\n",
      "|     유재석| 51|\n",
      "|     한문철| 61|\n",
      "|     이순재| 89|\n",
      "|     장성규| 41|\n",
      "+-----------+---+\n",
      "\n"
     ]
    }
   ],
   "source": [
    "df.show()"
   ]
  },
  {
   "cell_type": "code",
   "execution_count": 20,
   "id": "40148185-102f-46ec-8a70-3627fc092140",
   "metadata": {},
   "outputs": [
    {
     "name": "stdout",
     "output_type": "stream",
     "text": [
      "root\n",
      " |-- people_name: string (nullable = true)\n",
      " |-- age: long (nullable = true)\n",
      "\n"
     ]
    }
   ],
   "source": [
    "df.printSchema()"
   ]
  },
  {
   "cell_type": "code",
   "execution_count": 32,
   "id": "24d36188-165f-4a7d-a2fb-b529d9b8933a",
   "metadata": {},
   "outputs": [],
   "source": [
    "df.createOrReplaceTempView('WORLD_PEOPLE')"
   ]
  },
  {
   "cell_type": "code",
   "execution_count": 33,
   "id": "fcdbf6ef-595f-4703-901b-a09ae5778560",
   "metadata": {},
   "outputs": [],
   "source": [
    "def age_category(age) :\n",
    "    if (age < 35) :\n",
    "        return \"young!\"\n",
    "    elif (age >= 35 and age <= 59) :\n",
    "        return \"adult!\"\n",
    "    else :\n",
    "        return \"senior!\""
   ]
  },
  {
   "cell_type": "code",
   "execution_count": 34,
   "id": "09f82b4d-ddff-4730-ba98-123d0ea52099",
   "metadata": {},
   "outputs": [
    {
     "data": {
      "text/plain": [
       "<function __main__.age_category(age)>"
      ]
     },
     "execution_count": 34,
     "metadata": {},
     "output_type": "execute_result"
    }
   ],
   "source": [
    "spark.udf.register('age_category',age_category)"
   ]
  },
  {
   "cell_type": "code",
   "execution_count": 37,
   "id": "dbdf935e-5bed-4dc4-b9bc-cf672089cec6",
   "metadata": {},
   "outputs": [
    {
     "name": "stdout",
     "output_type": "stream",
     "text": [
      "+-----------+---+------------+\n",
      "|people_name|age|age_category|\n",
      "+-----------+---+------------+\n",
      "|     이규도| 22|      young!|\n",
      "|       안현| 39|      adult!|\n",
      "|  해리 케인| 30|      young!|\n",
      "|     유재석| 51|      adult!|\n",
      "|     한문철| 61|     senior!|\n",
      "|     이순재| 89|     senior!|\n",
      "|     장성규| 41|      adult!|\n",
      "+-----------+---+------------+\n",
      "\n"
     ]
    }
   ],
   "source": [
    "spark.sql(\n",
    "        \"SELECT people_name,age,age_category(age) \\\n",
    "        AS age_category FROM WORLD_PEOPLE\").show()"
   ]
  },
  {
   "cell_type": "code",
   "execution_count": null,
   "id": "fd6d5579-80b2-4fae-a021-27579ce22034",
   "metadata": {},
   "outputs": [],
   "source": []
  }
 ],
 "metadata": {
  "kernelspec": {
   "display_name": "Python 3 (ipykernel)",
   "language": "python",
   "name": "python3"
  },
  "language_info": {
   "codemirror_mode": {
    "name": "ipython",
    "version": 3
   },
   "file_extension": ".py",
   "mimetype": "text/x-python",
   "name": "python",
   "nbconvert_exporter": "python",
   "pygments_lexer": "ipython3",
   "version": "3.9.13"
  }
 },
 "nbformat": 4,
 "nbformat_minor": 5
}
